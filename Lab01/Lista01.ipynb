#%%
import pandas as pd
#%%
from IPython.display import display
#%%
file_path_1 = 'datasets/DSP_2.csv'
#%%
df = pd.read_csv(file_path_1)
#%%
pd.set_option('display.max_rows', 7)
#%%
pd.set_option('display.max_columns', 7)
#%%
pd.set_option('display.width', 1000)
#%%
pd.set_option('display.colheader_justify', 'center') # nie działa
#%%
pd.set_option('display.precision', 3)
#%%
display(df)
#%%
file_path_2 = 'datasets/DSP_4.csv'
#%%
df_1 = pd.read_csv(file_path_2, sep=';')
#%%
print(df_1.columns)
#%%
df_3 = df_1.fillna(df_1.median(numeric_only=True))
#%%
wiek_median = df_1['wiek'].median()
#%%
wzrost_median = df_1['wzrost'].median()
#%%
print(f"Mediana dla wieku: {wiek_median}")
print(f"Mediana dla wzrostu: {wzrost_median}")
#%%
df_4 = df_1.fillna(0)
#%%
print(df_3) # brakujące wartości wypełnione medianą
#%%
print(df_4) # brakujące wartości wypełnione zerami
#%%
file_path_5 = 'datasets/DSP_5.csv'
#%%
df_5 = pd.read_csv(file_path_5, sep=';')
#%%
print(df.isnull().sum())
#%%
mean_hp = df_5['hp'].mean()
#%%
df_5['hp'] = df_5['hp'].fillna(mean_hp)
#%%
hp_mean = df_5['hp'].mean()
#%%
hp_variance = df_5['hp'].var()
#%%
hp_range = df_5['hp'].max() - df_5['hp'].min()
#%%
print(f"Średnia: {hp_mean}")
print(f"Wariancja: {hp_variance}")
print(f"Rozstęp: {hp_range}")
#%%
correlation_matrix = df_5.select_dtypes(include='number').corr()
#%%
print(correlation_matrix)
#%%
print(correlation_matrix['hp'].sort_values(ascending=False))
#%%
file_path_8 = 'datasets/DSP_8.csv'
df_8 = pd.read_csv(file_path_8)
#%%
pd.set_option('display.float_format', '{:.2f}'.format)
#%%
num_columns = df_8.shape[1]
column_names = df_8.columns.tolist()
print(f"Liczba kolumn: {num_columns}")
print("Nazwy kolumn:", column_names)
#%%
num_rows = df_8.shape[0]
print(f"Liczba wierszy (obserwacji): {num_rows}")
#%%
missing_data = df_8.isnull().sum()
print("\nBraki danych w kolumnach:")
print(missing_data[missing_data > 0])
#%%
mean_age_men = df_8[df_8['Sex'] == 'M']['Age'].mean()
std_age_men = df_8[df_8['Sex'] == 'M']['Age'].std()
mean_age_women = df_8[df_8['Sex'] == 'F']['Age'].mean()
std_age_women = df_8[df_8['Sex'] == 'F']['Age'].std()
#%%
print(f"\nŚredni wiek mężczyzn: {mean_age_men:.2f}, Odchylenie standardowe: {std_age_men:.2f}")
print(f"Średni wiek kobiet: {mean_age_women:.2f}, Odchylenie standardowe: {std_age_women:.2f}")
#%%
percentage_men = (df_8['Sex'].value_counts(normalize=True)['M']) * 100
print(f"\nOdsetek mężczyzn w zbiorze danych: {percentage_men:.2f}%")
#%%
num_women_45_50 = df_8[(df_8['Sex'] == 'F') & (df_8['Age'].between(45, 50))].shape[0]
print(f"\nLiczba kobiet w wieku od 45 do 50 lat: {num_women_45_50}")
#%%
normal_ecg_df = df_8[df_8['RestingECG'] == 'Normal']
normal_ecg_correlation = normal_ecg_df.select_dtypes(include='number').corr()
print("\nTabela korelacji dla osób z normalnym EKG:")
print(normal_ecg_correlation)
#%%
