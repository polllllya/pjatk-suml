{
 "cells": [
  {
   "cell_type": "code",
   "id": "initial_id",
   "metadata": {
    "collapsed": true,
    "ExecuteTime": {
     "end_time": "2024-10-24T18:49:00.952440Z",
     "start_time": "2024-10-24T18:49:00.749523Z"
    }
   },
   "source": "import pandas as pd",
   "outputs": [],
   "execution_count": 1
  },
  {
   "metadata": {
    "ExecuteTime": {
     "end_time": "2024-10-24T18:49:10.827862Z",
     "start_time": "2024-10-24T18:49:10.824284Z"
    }
   },
   "cell_type": "code",
   "source": "from IPython.display import display",
   "id": "1009614d94f5f557",
   "outputs": [],
   "execution_count": 2
  },
  {
   "metadata": {
    "ExecuteTime": {
     "end_time": "2024-10-24T18:49:38.513539Z",
     "start_time": "2024-10-24T18:49:38.507075Z"
    }
   },
   "cell_type": "code",
   "source": "file_path_1 = 'datasets/DSP_2.csv'",
   "id": "4d6cac21e9b3636f",
   "outputs": [],
   "execution_count": 3
  },
  {
   "metadata": {
    "ExecuteTime": {
     "end_time": "2024-10-24T18:49:51.086087Z",
     "start_time": "2024-10-24T18:49:51.064315Z"
    }
   },
   "cell_type": "code",
   "source": "df = pd.read_csv(file_path_1)",
   "id": "aa3f576b28e4e043",
   "outputs": [],
   "execution_count": 4
  },
  {
   "metadata": {
    "ExecuteTime": {
     "end_time": "2024-10-24T18:50:01.916538Z",
     "start_time": "2024-10-24T18:50:01.911677Z"
    }
   },
   "cell_type": "code",
   "source": "pd.set_option('display.max_rows', 7)",
   "id": "996f5f66ad87390a",
   "outputs": [],
   "execution_count": 5
  },
  {
   "metadata": {
    "ExecuteTime": {
     "end_time": "2024-10-24T18:50:14.901338Z",
     "start_time": "2024-10-24T18:50:14.899108Z"
    }
   },
   "cell_type": "code",
   "source": "pd.set_option('display.max_columns', 7)",
   "id": "326ae212925c50d7",
   "outputs": [],
   "execution_count": 6
  },
  {
   "metadata": {
    "ExecuteTime": {
     "end_time": "2024-10-24T18:50:27.713552Z",
     "start_time": "2024-10-24T18:50:27.709022Z"
    }
   },
   "cell_type": "code",
   "source": "pd.set_option('display.width', 1000)",
   "id": "c7b19d9835df8903",
   "outputs": [],
   "execution_count": 7
  },
  {
   "metadata": {
    "ExecuteTime": {
     "end_time": "2024-10-24T18:50:36.932737Z",
     "start_time": "2024-10-24T18:50:36.930070Z"
    }
   },
   "cell_type": "code",
   "source": "pd.set_option('display.colheader_justify', 'center') # nie działa",
   "id": "3b67704bf8e6b03c",
   "outputs": [],
   "execution_count": 8
  },
  {
   "metadata": {
    "ExecuteTime": {
     "end_time": "2024-10-24T18:50:45.512866Z",
     "start_time": "2024-10-24T18:50:45.508515Z"
    }
   },
   "cell_type": "code",
   "source": "pd.set_option('display.precision', 3)",
   "id": "76547f4c05c93d9a",
   "outputs": [],
   "execution_count": 9
  },
  {
   "metadata": {
    "ExecuteTime": {
     "end_time": "2024-10-24T18:50:56.921746Z",
     "start_time": "2024-10-24T18:50:56.910016Z"
    }
   },
   "cell_type": "code",
   "source": "display(df)",
   "id": "5ef24fa476c6bcdd",
   "outputs": [
    {
     "data": {
      "text/plain": [
       "     Age Sex ChestPainType  ...  Oldpeak  ST_Slope  HeartDisease\n",
       "0    40    M       ATA      ...    0.0        Up          0     \n",
       "1    49    F       NAP      ...    1.0      Flat          1     \n",
       "2    37    M       ATA      ...    0.0        Up          0     \n",
       "..   ...  ..           ...  ...      ...       ...           ...\n",
       "915  57    M       ASY      ...    1.2      Flat          1     \n",
       "916  57    F       ATA      ...    0.0      Flat          1     \n",
       "917  38    M       NAP      ...    0.0        Up          0     \n",
       "\n",
       "[918 rows x 12 columns]"
      ],
      "text/html": [
       "<div>\n",
       "<style scoped>\n",
       "    .dataframe tbody tr th:only-of-type {\n",
       "        vertical-align: middle;\n",
       "    }\n",
       "\n",
       "    .dataframe tbody tr th {\n",
       "        vertical-align: top;\n",
       "    }\n",
       "\n",
       "    .dataframe thead th {\n",
       "        text-align: right;\n",
       "    }\n",
       "</style>\n",
       "<table border=\"1\" class=\"dataframe\">\n",
       "  <thead>\n",
       "    <tr style=\"text-align: center;\">\n",
       "      <th></th>\n",
       "      <th>Age</th>\n",
       "      <th>Sex</th>\n",
       "      <th>ChestPainType</th>\n",
       "      <th>...</th>\n",
       "      <th>Oldpeak</th>\n",
       "      <th>ST_Slope</th>\n",
       "      <th>HeartDisease</th>\n",
       "    </tr>\n",
       "  </thead>\n",
       "  <tbody>\n",
       "    <tr>\n",
       "      <th>0</th>\n",
       "      <td>40</td>\n",
       "      <td>M</td>\n",
       "      <td>ATA</td>\n",
       "      <td>...</td>\n",
       "      <td>0.0</td>\n",
       "      <td>Up</td>\n",
       "      <td>0</td>\n",
       "    </tr>\n",
       "    <tr>\n",
       "      <th>1</th>\n",
       "      <td>49</td>\n",
       "      <td>F</td>\n",
       "      <td>NAP</td>\n",
       "      <td>...</td>\n",
       "      <td>1.0</td>\n",
       "      <td>Flat</td>\n",
       "      <td>1</td>\n",
       "    </tr>\n",
       "    <tr>\n",
       "      <th>2</th>\n",
       "      <td>37</td>\n",
       "      <td>M</td>\n",
       "      <td>ATA</td>\n",
       "      <td>...</td>\n",
       "      <td>0.0</td>\n",
       "      <td>Up</td>\n",
       "      <td>0</td>\n",
       "    </tr>\n",
       "    <tr>\n",
       "      <th>...</th>\n",
       "      <td>...</td>\n",
       "      <td>...</td>\n",
       "      <td>...</td>\n",
       "      <td>...</td>\n",
       "      <td>...</td>\n",
       "      <td>...</td>\n",
       "      <td>...</td>\n",
       "    </tr>\n",
       "    <tr>\n",
       "      <th>915</th>\n",
       "      <td>57</td>\n",
       "      <td>M</td>\n",
       "      <td>ASY</td>\n",
       "      <td>...</td>\n",
       "      <td>1.2</td>\n",
       "      <td>Flat</td>\n",
       "      <td>1</td>\n",
       "    </tr>\n",
       "    <tr>\n",
       "      <th>916</th>\n",
       "      <td>57</td>\n",
       "      <td>F</td>\n",
       "      <td>ATA</td>\n",
       "      <td>...</td>\n",
       "      <td>0.0</td>\n",
       "      <td>Flat</td>\n",
       "      <td>1</td>\n",
       "    </tr>\n",
       "    <tr>\n",
       "      <th>917</th>\n",
       "      <td>38</td>\n",
       "      <td>M</td>\n",
       "      <td>NAP</td>\n",
       "      <td>...</td>\n",
       "      <td>0.0</td>\n",
       "      <td>Up</td>\n",
       "      <td>0</td>\n",
       "    </tr>\n",
       "  </tbody>\n",
       "</table>\n",
       "<p>918 rows × 12 columns</p>\n",
       "</div>"
      ]
     },
     "metadata": {},
     "output_type": "display_data"
    }
   ],
   "execution_count": 10
  },
  {
   "metadata": {
    "ExecuteTime": {
     "end_time": "2024-10-24T18:58:03.502354Z",
     "start_time": "2024-10-24T18:58:03.496246Z"
    }
   },
   "cell_type": "code",
   "source": "file_path_2 = 'datasets/DSP_4.csv'",
   "id": "32b40a279e47657",
   "outputs": [],
   "execution_count": 23
  },
  {
   "metadata": {
    "ExecuteTime": {
     "end_time": "2024-10-24T19:01:12.098020Z",
     "start_time": "2024-10-24T19:01:12.087907Z"
    }
   },
   "cell_type": "code",
   "source": "df_1 = pd.read_csv(file_path_2, sep=';')",
   "id": "9e14b08720e14a3e",
   "outputs": [],
   "execution_count": 28
  },
  {
   "metadata": {
    "ExecuteTime": {
     "end_time": "2024-10-24T19:07:29.330267Z",
     "start_time": "2024-10-24T19:07:29.326550Z"
    }
   },
   "cell_type": "code",
   "source": "print(df_1.columns)",
   "id": "6ce5f4ad1f61d9fa",
   "outputs": [
    {
     "name": "stdout",
     "output_type": "stream",
     "text": [
      "Index(['objawy', 'wiek', 'choroby', 'wzrost', 'leki'], dtype='object')\n"
     ]
    }
   ],
   "execution_count": 31
  },
  {
   "metadata": {
    "ExecuteTime": {
     "end_time": "2024-10-24T19:07:50.476479Z",
     "start_time": "2024-10-24T19:07:50.464140Z"
    }
   },
   "cell_type": "code",
   "source": "df_3 = df_1.fillna(df_1.median(numeric_only=True))",
   "id": "9ec306219d1ec30e",
   "outputs": [],
   "execution_count": 32
  },
  {
   "metadata": {
    "ExecuteTime": {
     "end_time": "2024-10-24T19:08:34.943227Z",
     "start_time": "2024-10-24T19:08:34.937368Z"
    }
   },
   "cell_type": "code",
   "source": "wiek_median = df_1['wiek'].median()",
   "id": "35f92df9091e410d",
   "outputs": [],
   "execution_count": 33
  },
  {
   "metadata": {
    "ExecuteTime": {
     "end_time": "2024-10-24T19:08:42.666188Z",
     "start_time": "2024-10-24T19:08:42.663663Z"
    }
   },
   "cell_type": "code",
   "source": "wzrost_median = df_1['wzrost'].median()",
   "id": "3efbcc7ff1fa2fa0",
   "outputs": [],
   "execution_count": 34
  },
  {
   "metadata": {
    "ExecuteTime": {
     "end_time": "2024-10-24T19:09:18.657512Z",
     "start_time": "2024-10-24T19:09:18.654192Z"
    }
   },
   "cell_type": "code",
   "source": [
    "print(f\"Mediana dla wieku: {wiek_median}\")\n",
    "print(f\"Mediana dla wzrostu: {wzrost_median}\")"
   ],
   "id": "36eb1d8a433dfa06",
   "outputs": [
    {
     "name": "stdout",
     "output_type": "stream",
     "text": [
      "Mediana dla wieku: 43.0\n",
      "Mediana dla wzrostu: 187.0\n"
     ]
    }
   ],
   "execution_count": 36
  },
  {
   "metadata": {
    "ExecuteTime": {
     "end_time": "2024-10-24T19:09:43.053920Z",
     "start_time": "2024-10-24T19:09:43.047804Z"
    }
   },
   "cell_type": "code",
   "source": "df_4 = df_1.fillna(0)",
   "id": "867f0a9c1bf9582a",
   "outputs": [],
   "execution_count": 37
  },
  {
   "metadata": {
    "ExecuteTime": {
     "end_time": "2024-10-24T19:09:58.548826Z",
     "start_time": "2024-10-24T19:09:58.544196Z"
    }
   },
   "cell_type": "code",
   "source": "print(df_3) # brakujące wartości wypełnione medianą",
   "id": "a42341325131188",
   "outputs": [
    {
     "name": "stdout",
     "output_type": "stream",
     "text": [
      "    objawy  wiek  choroby  wzrost  leki\n",
      "0      1    43.0     0      170.0    2 \n",
      "1      1    65.0     0      187.0    3 \n",
      "2      1    55.0     0      182.0    4 \n",
      "..     ...   ...      ...     ...   ...\n",
      "57     5    42.0     2      187.0    3 \n",
      "58     5    32.0     0      168.0    4 \n",
      "59     5    34.0     1      187.0    3 \n",
      "\n",
      "[60 rows x 5 columns]\n"
     ]
    }
   ],
   "execution_count": 38
  },
  {
   "metadata": {
    "ExecuteTime": {
     "end_time": "2024-10-24T19:13:05.167099Z",
     "start_time": "2024-10-24T19:13:05.158521Z"
    }
   },
   "cell_type": "code",
   "source": "print(df_4) # brakujące wartości wypełnione zerami",
   "id": "75dd660943b8267d",
   "outputs": [
    {
     "name": "stdout",
     "output_type": "stream",
     "text": [
      "    objawy  wiek  choroby  wzrost  leki\n",
      "0      1     0.0     0      170.0    2 \n",
      "1      1    65.0     0        0.0    3 \n",
      "2      1    55.0     0      182.0    4 \n",
      "..     ...   ...      ...     ...   ...\n",
      "57     5    42.0     2      187.0    3 \n",
      "58     5    32.0     0      168.0    4 \n",
      "59     5    34.0     1      187.0    3 \n",
      "\n",
      "[60 rows x 5 columns]\n"
     ]
    }
   ],
   "execution_count": 39
  },
  {
   "metadata": {
    "ExecuteTime": {
     "end_time": "2024-10-24T19:15:25.342560Z",
     "start_time": "2024-10-24T19:15:25.336883Z"
    }
   },
   "cell_type": "code",
   "source": "file_path_5 = 'datasets/DSP_5.csv'",
   "id": "f839ef217d5cfbee",
   "outputs": [],
   "execution_count": 41
  },
  {
   "metadata": {
    "ExecuteTime": {
     "end_time": "2024-10-24T19:15:26.912229Z",
     "start_time": "2024-10-24T19:15:26.907288Z"
    }
   },
   "cell_type": "code",
   "source": "df_5 = pd.read_csv(file_path_5, sep=';')",
   "id": "8cc0f4870a1a31cf",
   "outputs": [],
   "execution_count": 42
  },
  {
   "metadata": {
    "ExecuteTime": {
     "end_time": "2024-10-24T19:15:38.073533Z",
     "start_time": "2024-10-24T19:15:38.069570Z"
    }
   },
   "cell_type": "code",
   "source": "print(df.isnull().sum())",
   "id": "9f0be8efc9e76611",
   "outputs": [
    {
     "name": "stdout",
     "output_type": "stream",
     "text": [
      "Age              0\n",
      "Sex              0\n",
      "ChestPainType    0\n",
      "                ..\n",
      "Oldpeak          0\n",
      "ST_Slope         0\n",
      "HeartDisease     0\n",
      "Length: 12, dtype: int64\n"
     ]
    }
   ],
   "execution_count": 43
  },
  {
   "metadata": {
    "ExecuteTime": {
     "end_time": "2024-10-24T19:19:14.224468Z",
     "start_time": "2024-10-24T19:19:14.218210Z"
    }
   },
   "cell_type": "code",
   "source": "mean_hp = df_5['hp'].mean()",
   "id": "be7752c3ccd7224",
   "outputs": [],
   "execution_count": 45
  },
  {
   "metadata": {
    "ExecuteTime": {
     "end_time": "2024-10-24T19:19:21.503029Z",
     "start_time": "2024-10-24T19:19:21.495217Z"
    }
   },
   "cell_type": "code",
   "source": "df_5['hp'] = df_5['hp'].fillna(mean_hp)",
   "id": "2759f082676bca81",
   "outputs": [],
   "execution_count": 46
  },
  {
   "metadata": {
    "ExecuteTime": {
     "end_time": "2024-10-24T19:19:31.466903Z",
     "start_time": "2024-10-24T19:19:31.463620Z"
    }
   },
   "cell_type": "code",
   "source": "hp_mean = df_5['hp'].mean()",
   "id": "31bca319493e323f",
   "outputs": [],
   "execution_count": 47
  },
  {
   "metadata": {
    "ExecuteTime": {
     "end_time": "2024-10-24T19:19:41.873592Z",
     "start_time": "2024-10-24T19:19:41.868458Z"
    }
   },
   "cell_type": "code",
   "source": "hp_variance = df_5['hp'].var()",
   "id": "8a802739552d53b3",
   "outputs": [],
   "execution_count": 48
  },
  {
   "metadata": {
    "ExecuteTime": {
     "end_time": "2024-10-24T19:19:48.269976Z",
     "start_time": "2024-10-24T19:19:48.266622Z"
    }
   },
   "cell_type": "code",
   "source": "hp_range = df_5['hp'].max() - df_5['hp'].min()",
   "id": "b19a5039ba5699c9",
   "outputs": [],
   "execution_count": 49
  },
  {
   "metadata": {
    "ExecuteTime": {
     "end_time": "2024-10-24T19:20:08.406609Z",
     "start_time": "2024-10-24T19:20:08.401980Z"
    }
   },
   "cell_type": "code",
   "source": [
    "print(f\"Średnia: {hp_mean}\")\n",
    "print(f\"Wariancja: {hp_variance}\")\n",
    "print(f\"Rozstęp: {hp_range}\")"
   ],
   "id": "65ca3ac507944b5a",
   "outputs": [
    {
     "name": "stdout",
     "output_type": "stream",
     "text": [
      "Średnia: 143.51612903225805\n",
      "Wariancja: 4379.023933402706\n",
      "Rozstęp: 283.0\n"
     ]
    }
   ],
   "execution_count": 50
  },
  {
   "metadata": {
    "ExecuteTime": {
     "end_time": "2024-10-24T19:21:44.770117Z",
     "start_time": "2024-10-24T19:21:44.760827Z"
    }
   },
   "cell_type": "code",
   "source": "correlation_matrix = df_5.select_dtypes(include='number').corr()",
   "id": "763880d2d5c227e9",
   "outputs": [],
   "execution_count": 52
  },
  {
   "metadata": {
    "ExecuteTime": {
     "end_time": "2024-10-24T19:21:59.108848Z",
     "start_time": "2024-10-24T19:21:59.104724Z"
    }
   },
   "cell_type": "code",
   "source": "print(correlation_matrix)",
   "id": "6c796a5fd49bd6d9",
   "outputs": [
    {
     "name": "stdout",
     "output_type": "stream",
     "text": [
      "       mpg    cyl   disp   ...   am    gear   carb \n",
      "mpg   1.000 -0.852 -0.848  ...  0.600  0.480 -0.551\n",
      "cyl  -0.852  1.000  0.902  ... -0.523 -0.493  0.527\n",
      "disp -0.848  0.902  1.000  ... -0.591 -0.556  0.395\n",
      "...     ...    ...    ...  ...    ...    ...    ...\n",
      "am    0.600 -0.523 -0.591  ...  1.000  0.794  0.058\n",
      "gear  0.480 -0.493 -0.556  ...  0.794  1.000  0.274\n",
      "carb -0.551  0.527  0.395  ...  0.058  0.274  1.000\n",
      "\n",
      "[11 rows x 11 columns]\n"
     ]
    }
   ],
   "execution_count": 53
  },
  {
   "metadata": {
    "ExecuteTime": {
     "end_time": "2024-10-24T19:22:32.108837Z",
     "start_time": "2024-10-24T19:22:32.098809Z"
    }
   },
   "cell_type": "code",
   "source": "print(correlation_matrix['hp'].sort_values(ascending=False))",
   "id": "23874a70e614fffb",
   "outputs": [
    {
     "name": "stdout",
     "output_type": "stream",
     "text": [
      "hp      1.000\n",
      "cyl     0.812\n",
      "disp    0.772\n",
      "        ...  \n",
      "qsec   -0.666\n",
      "vs     -0.706\n",
      "mpg    -0.748\n",
      "Name: hp, Length: 11, dtype: float64\n"
     ]
    }
   ],
   "execution_count": 54
  },
  {
   "metadata": {
    "ExecuteTime": {
     "end_time": "2024-10-24T19:25:42.420515Z",
     "start_time": "2024-10-24T19:25:42.411128Z"
    }
   },
   "cell_type": "code",
   "source": [
    "file_path_8 = 'datasets/DSP_8.csv'\n",
    "df_8 = pd.read_csv(file_path_8)"
   ],
   "id": "9d9d03afdc2c1454",
   "outputs": [],
   "execution_count": 55
  },
  {
   "metadata": {
    "ExecuteTime": {
     "end_time": "2024-10-24T19:26:03.854955Z",
     "start_time": "2024-10-24T19:26:03.851952Z"
    }
   },
   "cell_type": "code",
   "source": "pd.set_option('display.float_format', '{:.2f}'.format)",
   "id": "4bf01a23a2d79bfb",
   "outputs": [],
   "execution_count": 56
  },
  {
   "metadata": {
    "ExecuteTime": {
     "end_time": "2024-10-24T19:26:21.047688Z",
     "start_time": "2024-10-24T19:26:21.045296Z"
    }
   },
   "cell_type": "code",
   "source": [
    "num_columns = df_8.shape[1]\n",
    "column_names = df_8.columns.tolist()\n",
    "print(f\"Liczba kolumn: {num_columns}\")\n",
    "print(\"Nazwy kolumn:\", column_names)"
   ],
   "id": "261a12918c7f3118",
   "outputs": [
    {
     "name": "stdout",
     "output_type": "stream",
     "text": [
      "Liczba kolumn: 12\n",
      "Nazwy kolumn: ['Age', 'Sex', 'ChestPainType', 'RestingBP', 'Cholesterol', 'FastingBS', 'RestingECG', 'MaxHR', 'ExerciseAngina', 'Oldpeak', 'ST_Slope', 'HeartDisease']\n"
     ]
    }
   ],
   "execution_count": 57
  },
  {
   "metadata": {
    "ExecuteTime": {
     "end_time": "2024-10-24T19:26:37.942310Z",
     "start_time": "2024-10-24T19:26:37.937504Z"
    }
   },
   "cell_type": "code",
   "source": [
    "num_rows = df_8.shape[0]\n",
    "print(f\"Liczba wierszy (obserwacji): {num_rows}\")"
   ],
   "id": "78d2e97a67e98f05",
   "outputs": [
    {
     "name": "stdout",
     "output_type": "stream",
     "text": [
      "Liczba wierszy (obserwacji): 918\n"
     ]
    }
   ],
   "execution_count": 58
  },
  {
   "metadata": {
    "ExecuteTime": {
     "end_time": "2024-10-24T19:26:50.567658Z",
     "start_time": "2024-10-24T19:26:50.562752Z"
    }
   },
   "cell_type": "code",
   "source": [
    "missing_data = df_8.isnull().sum()\n",
    "print(\"\\nBraki danych w kolumnach:\")\n",
    "print(missing_data[missing_data > 0])"
   ],
   "id": "934caa6383bf246c",
   "outputs": [
    {
     "name": "stdout",
     "output_type": "stream",
     "text": [
      "\n",
      "Braki danych w kolumnach:\n",
      "Series([], dtype: int64)\n"
     ]
    }
   ],
   "execution_count": 59
  },
  {
   "metadata": {
    "ExecuteTime": {
     "end_time": "2024-10-24T19:27:49.246429Z",
     "start_time": "2024-10-24T19:27:49.236132Z"
    }
   },
   "cell_type": "code",
   "source": [
    "mean_age_men = df_8[df_8['Sex'] == 'M']['Age'].mean()\n",
    "std_age_men = df_8[df_8['Sex'] == 'M']['Age'].std()\n",
    "mean_age_women = df_8[df_8['Sex'] == 'F']['Age'].mean()\n",
    "std_age_women = df_8[df_8['Sex'] == 'F']['Age'].std()"
   ],
   "id": "5a01ef6b2b05a8dc",
   "outputs": [],
   "execution_count": 60
  },
  {
   "metadata": {
    "ExecuteTime": {
     "end_time": "2024-10-24T19:27:58.888261Z",
     "start_time": "2024-10-24T19:27:58.885602Z"
    }
   },
   "cell_type": "code",
   "source": [
    "print(f\"\\nŚredni wiek mężczyzn: {mean_age_men:.2f}, Odchylenie standardowe: {std_age_men:.2f}\")\n",
    "print(f\"Średni wiek kobiet: {mean_age_women:.2f}, Odchylenie standardowe: {std_age_women:.2f}\")"
   ],
   "id": "408b7df2a6b907fc",
   "outputs": [
    {
     "name": "stdout",
     "output_type": "stream",
     "text": [
      "\n",
      "Średni wiek mężczyzn: 53.78, Odchylenie standardowe: 9.40\n",
      "Średni wiek kobiet: 52.49, Odchylenie standardowe: 9.52\n"
     ]
    }
   ],
   "execution_count": 61
  },
  {
   "metadata": {
    "ExecuteTime": {
     "end_time": "2024-10-24T19:28:22.968064Z",
     "start_time": "2024-10-24T19:28:22.959006Z"
    }
   },
   "cell_type": "code",
   "source": [
    "percentage_men = (df_8['Sex'].value_counts(normalize=True)['M']) * 100\n",
    "print(f\"\\nOdsetek mężczyzn w zbiorze danych: {percentage_men:.2f}%\")"
   ],
   "id": "9aa778a030799a78",
   "outputs": [
    {
     "name": "stdout",
     "output_type": "stream",
     "text": [
      "\n",
      "Odsetek mężczyzn w zbiorze danych: 78.98%\n"
     ]
    }
   ],
   "execution_count": 62
  },
  {
   "metadata": {
    "ExecuteTime": {
     "end_time": "2024-10-24T19:28:38.097604Z",
     "start_time": "2024-10-24T19:28:38.093404Z"
    }
   },
   "cell_type": "code",
   "source": [
    "num_women_45_50 = df_8[(df_8['Sex'] == 'F') & (df_8['Age'].between(45, 50))].shape[0]\n",
    "print(f\"\\nLiczba kobiet w wieku od 45 do 50 lat: {num_women_45_50}\")"
   ],
   "id": "5e7ea0efcc970a6d",
   "outputs": [
    {
     "name": "stdout",
     "output_type": "stream",
     "text": [
      "\n",
      "Liczba kobiet w wieku od 45 do 50 lat: 36\n"
     ]
    }
   ],
   "execution_count": 63
  },
  {
   "metadata": {
    "ExecuteTime": {
     "end_time": "2024-10-24T19:31:53.559965Z",
     "start_time": "2024-10-24T19:31:53.548494Z"
    }
   },
   "cell_type": "code",
   "source": [
    "normal_ecg_df = df_8[df_8['RestingECG'] == 'Normal']\n",
    "normal_ecg_correlation = normal_ecg_df.select_dtypes(include='number').corr()\n",
    "print(\"\\nTabela korelacji dla osób z normalnym EKG:\")\n",
    "print(normal_ecg_correlation)"
   ],
   "id": "4da58dfeec85b6ae",
   "outputs": [
    {
     "name": "stdout",
     "output_type": "stream",
     "text": [
      "\n",
      "Tabela korelacji dla osób z normalnym EKG:\n",
      "               Age  RestingBP  Cholesterol  FastingBS  MaxHR  Oldpeak  HeartDisease\n",
      "Age           1.00    0.23       -0.13        0.18    -0.38    0.25        0.24    \n",
      "RestingBP     0.23    1.00        0.14       -0.01    -0.12    0.12        0.05    \n",
      "Cholesterol  -0.13    0.14        1.00       -0.35     0.22    0.03       -0.28    \n",
      "FastingBS     0.18   -0.01       -0.35        1.00    -0.11    0.08        0.28    \n",
      "MaxHR        -0.38   -0.12        0.22       -0.11     1.00   -0.20       -0.43    \n",
      "Oldpeak       0.25    0.12        0.03        0.08    -0.20    1.00        0.43    \n",
      "HeartDisease  0.24    0.05       -0.28        0.28    -0.43    0.43        1.00    \n"
     ]
    }
   ],
   "execution_count": 66
  },
  {
   "metadata": {},
   "cell_type": "code",
   "outputs": [],
   "execution_count": null,
   "source": "",
   "id": "22468cd1a044bba3"
  }
 ],
 "metadata": {
  "kernelspec": {
   "display_name": "Python 3",
   "language": "python",
   "name": "python3"
  },
  "language_info": {
   "codemirror_mode": {
    "name": "ipython",
    "version": 2
   },
   "file_extension": ".py",
   "mimetype": "text/x-python",
   "name": "python",
   "nbconvert_exporter": "python",
   "pygments_lexer": "ipython2",
   "version": "2.7.6"
  }
 },
 "nbformat": 4,
 "nbformat_minor": 5
}
